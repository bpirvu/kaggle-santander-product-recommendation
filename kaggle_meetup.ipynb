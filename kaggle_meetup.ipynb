{
 "cells": [
  {
   "cell_type": "code",
   "execution_count": 2,
   "metadata": {
    "collapsed": false
   },
   "outputs": [],
   "source": [
    "import datetime\n",
    "import dateutil\n",
    "from os import getenv\n",
    "import sys\n",
    "import operator\n",
    "\n",
    "import math\n",
    "import numpy as np\n",
    "\n",
    "DATADIR = getenv(\"DATADIR\")\n",
    "print DATADIR\n",
    "#--------------------------------------------------\n",
    "import graphlab as gl\n",
    "from graphlab import SFrame\n",
    "from graphlab import SArray\n",
    "from graphlab import aggregate as agg\n",
    "#--------------------------------------------------"
   ]
  },
  {
   "cell_type": "markdown",
   "metadata": {},
   "source": [
    "---\n",
    "# Initial Data Preparation (execute only once)\n",
    "## Import data & save as SFrames in order to improve efficiency"
   ]
  },
  {
   "cell_type": "code",
   "execution_count": 1,
   "metadata": {
    "collapsed": false
   },
   "outputs": [],
   "source": [
    "test=SFrame(\"%s/KAGGLE/santander_product_recommendation/test_ver2.csv\" % DATADIR)"
   ]
  },
  {
   "cell_type": "code",
   "execution_count": 3,
   "metadata": {
    "collapsed": true
   },
   "outputs": [],
   "source": [
    "test.save('%s/KAGGLE/santander_product_recommendation/test_orig' % DATADIR)"
   ]
  },
  {
   "cell_type": "code",
   "execution_count": 3,
   "metadata": {
    "collapsed": false
   },
   "outputs": [],
   "source": [
    "train=SFrame(\"%s/KAGGLE/santander_product_recommendation/train_ver2.csv\" % DATADIR)"
   ]
  },
  {
   "cell_type": "code",
   "execution_count": 5,
   "metadata": {
    "collapsed": true
   },
   "outputs": [],
   "source": [
    "train.save('%s/KAGGLE/santander_product_recommendation/train_orig' % DATADIR)"
   ]
  },
  {
   "cell_type": "code",
   "execution_count": 6,
   "metadata": {
    "collapsed": true
   },
   "outputs": [],
   "source": [
    "# After executing previous step once, start directly here:\n",
    "test_orig=SFrame(\"%s/KAGGLE/santander_product_recommendation/test_orig\" % DATADIR)\n",
    "train_orig=SFrame(\"%s/KAGGLE/santander_product_recommendation/train_orig\" % DATADIR)"
   ]
  },
  {
   "cell_type": "code",
   "execution_count": 7,
   "metadata": {
    "collapsed": false
   },
   "outputs": [
    {
     "data": {
      "text/html": [
       "<div style=\"max-height:1000px;max-width:1500px;overflow:auto;\"><table frame=\"box\" rules=\"cols\">\n",
       "    <tr>\n",
       "        <th style=\"padding-left: 1em; padding-right: 1em; text-align: center\">Date</th>\n",
       "        <th style=\"padding-left: 1em; padding-right: 1em; text-align: center\">PersonId</th>\n",
       "        <th style=\"padding-left: 1em; padding-right: 1em; text-align: center\">Employee</th>\n",
       "        <th style=\"padding-left: 1em; padding-right: 1em; text-align: center\">Country</th>\n",
       "        <th style=\"padding-left: 1em; padding-right: 1em; text-align: center\">Sex</th>\n",
       "        <th style=\"padding-left: 1em; padding-right: 1em; text-align: center\">Age</th>\n",
       "        <th style=\"padding-left: 1em; padding-right: 1em; text-align: center\">EntryDate</th>\n",
       "        <th style=\"padding-left: 1em; padding-right: 1em; text-align: center\">New</th>\n",
       "        <th style=\"padding-left: 1em; padding-right: 1em; text-align: center\">Seniority</th>\n",
       "        <th style=\"padding-left: 1em; padding-right: 1em; text-align: center\">PrimaryCustomer</th>\n",
       "        <th style=\"padding-left: 1em; padding-right: 1em; text-align: center\">LastDateAsPrimaryCustomer</th>\n",
       "    </tr>\n",
       "    <tr>\n",
       "        <td style=\"padding-left: 1em; padding-right: 1em; text-align: center; vertical-align: top\">2016-06-28</td>\n",
       "        <td style=\"padding-left: 1em; padding-right: 1em; text-align: center; vertical-align: top\">15889</td>\n",
       "        <td style=\"padding-left: 1em; padding-right: 1em; text-align: center; vertical-align: top\">F</td>\n",
       "        <td style=\"padding-left: 1em; padding-right: 1em; text-align: center; vertical-align: top\">ES</td>\n",
       "        <td style=\"padding-left: 1em; padding-right: 1em; text-align: center; vertical-align: top\">V</td>\n",
       "        <td style=\"padding-left: 1em; padding-right: 1em; text-align: center; vertical-align: top\">56</td>\n",
       "        <td style=\"padding-left: 1em; padding-right: 1em; text-align: center; vertical-align: top\">1995-01-16</td>\n",
       "        <td style=\"padding-left: 1em; padding-right: 1em; text-align: center; vertical-align: top\">0</td>\n",
       "        <td style=\"padding-left: 1em; padding-right: 1em; text-align: center; vertical-align: top\">256</td>\n",
       "        <td style=\"padding-left: 1em; padding-right: 1em; text-align: center; vertical-align: top\">1</td>\n",
       "        <td style=\"padding-left: 1em; padding-right: 1em; text-align: center; vertical-align: top\"></td>\n",
       "    </tr>\n",
       "    <tr>\n",
       "        <td style=\"padding-left: 1em; padding-right: 1em; text-align: center; vertical-align: top\">2016-06-28</td>\n",
       "        <td style=\"padding-left: 1em; padding-right: 1em; text-align: center; vertical-align: top\">1170544</td>\n",
       "        <td style=\"padding-left: 1em; padding-right: 1em; text-align: center; vertical-align: top\">N</td>\n",
       "        <td style=\"padding-left: 1em; padding-right: 1em; text-align: center; vertical-align: top\">ES</td>\n",
       "        <td style=\"padding-left: 1em; padding-right: 1em; text-align: center; vertical-align: top\">H</td>\n",
       "        <td style=\"padding-left: 1em; padding-right: 1em; text-align: center; vertical-align: top\">36</td>\n",
       "        <td style=\"padding-left: 1em; padding-right: 1em; text-align: center; vertical-align: top\">2013-08-28</td>\n",
       "        <td style=\"padding-left: 1em; padding-right: 1em; text-align: center; vertical-align: top\">0</td>\n",
       "        <td style=\"padding-left: 1em; padding-right: 1em; text-align: center; vertical-align: top\">34</td>\n",
       "        <td style=\"padding-left: 1em; padding-right: 1em; text-align: center; vertical-align: top\">1</td>\n",
       "        <td style=\"padding-left: 1em; padding-right: 1em; text-align: center; vertical-align: top\"></td>\n",
       "    </tr>\n",
       "    <tr>\n",
       "        <td style=\"padding-left: 1em; padding-right: 1em; text-align: center; vertical-align: top\">2016-06-28</td>\n",
       "        <td style=\"padding-left: 1em; padding-right: 1em; text-align: center; vertical-align: top\">1170545</td>\n",
       "        <td style=\"padding-left: 1em; padding-right: 1em; text-align: center; vertical-align: top\">N</td>\n",
       "        <td style=\"padding-left: 1em; padding-right: 1em; text-align: center; vertical-align: top\">ES</td>\n",
       "        <td style=\"padding-left: 1em; padding-right: 1em; text-align: center; vertical-align: top\">V</td>\n",
       "        <td style=\"padding-left: 1em; padding-right: 1em; text-align: center; vertical-align: top\">22</td>\n",
       "        <td style=\"padding-left: 1em; padding-right: 1em; text-align: center; vertical-align: top\">2013-08-28</td>\n",
       "        <td style=\"padding-left: 1em; padding-right: 1em; text-align: center; vertical-align: top\">0</td>\n",
       "        <td style=\"padding-left: 1em; padding-right: 1em; text-align: center; vertical-align: top\">34</td>\n",
       "        <td style=\"padding-left: 1em; padding-right: 1em; text-align: center; vertical-align: top\">1</td>\n",
       "        <td style=\"padding-left: 1em; padding-right: 1em; text-align: center; vertical-align: top\"></td>\n",
       "    </tr>\n",
       "    <tr>\n",
       "        <td style=\"padding-left: 1em; padding-right: 1em; text-align: center; vertical-align: top\">2016-06-28</td>\n",
       "        <td style=\"padding-left: 1em; padding-right: 1em; text-align: center; vertical-align: top\">1170547</td>\n",
       "        <td style=\"padding-left: 1em; padding-right: 1em; text-align: center; vertical-align: top\">N</td>\n",
       "        <td style=\"padding-left: 1em; padding-right: 1em; text-align: center; vertical-align: top\">ES</td>\n",
       "        <td style=\"padding-left: 1em; padding-right: 1em; text-align: center; vertical-align: top\">H</td>\n",
       "        <td style=\"padding-left: 1em; padding-right: 1em; text-align: center; vertical-align: top\">22</td>\n",
       "        <td style=\"padding-left: 1em; padding-right: 1em; text-align: center; vertical-align: top\">2013-08-28</td>\n",
       "        <td style=\"padding-left: 1em; padding-right: 1em; text-align: center; vertical-align: top\">0</td>\n",
       "        <td style=\"padding-left: 1em; padding-right: 1em; text-align: center; vertical-align: top\">34</td>\n",
       "        <td style=\"padding-left: 1em; padding-right: 1em; text-align: center; vertical-align: top\">1</td>\n",
       "        <td style=\"padding-left: 1em; padding-right: 1em; text-align: center; vertical-align: top\"></td>\n",
       "    </tr>\n",
       "    <tr>\n",
       "        <td style=\"padding-left: 1em; padding-right: 1em; text-align: center; vertical-align: top\">2016-06-28</td>\n",
       "        <td style=\"padding-left: 1em; padding-right: 1em; text-align: center; vertical-align: top\">1170548</td>\n",
       "        <td style=\"padding-left: 1em; padding-right: 1em; text-align: center; vertical-align: top\">N</td>\n",
       "        <td style=\"padding-left: 1em; padding-right: 1em; text-align: center; vertical-align: top\">ES</td>\n",
       "        <td style=\"padding-left: 1em; padding-right: 1em; text-align: center; vertical-align: top\">H</td>\n",
       "        <td style=\"padding-left: 1em; padding-right: 1em; text-align: center; vertical-align: top\">22</td>\n",
       "        <td style=\"padding-left: 1em; padding-right: 1em; text-align: center; vertical-align: top\">2013-08-28</td>\n",
       "        <td style=\"padding-left: 1em; padding-right: 1em; text-align: center; vertical-align: top\">0</td>\n",
       "        <td style=\"padding-left: 1em; padding-right: 1em; text-align: center; vertical-align: top\">34</td>\n",
       "        <td style=\"padding-left: 1em; padding-right: 1em; text-align: center; vertical-align: top\">1</td>\n",
       "        <td style=\"padding-left: 1em; padding-right: 1em; text-align: center; vertical-align: top\"></td>\n",
       "    </tr>\n",
       "    <tr>\n",
       "        <td style=\"padding-left: 1em; padding-right: 1em; text-align: center; vertical-align: top\">2016-06-28</td>\n",
       "        <td style=\"padding-left: 1em; padding-right: 1em; text-align: center; vertical-align: top\">1170550</td>\n",
       "        <td style=\"padding-left: 1em; padding-right: 1em; text-align: center; vertical-align: top\">N</td>\n",
       "        <td style=\"padding-left: 1em; padding-right: 1em; text-align: center; vertical-align: top\">ES</td>\n",
       "        <td style=\"padding-left: 1em; padding-right: 1em; text-align: center; vertical-align: top\">V</td>\n",
       "        <td style=\"padding-left: 1em; padding-right: 1em; text-align: center; vertical-align: top\">22</td>\n",
       "        <td style=\"padding-left: 1em; padding-right: 1em; text-align: center; vertical-align: top\">2013-08-28</td>\n",
       "        <td style=\"padding-left: 1em; padding-right: 1em; text-align: center; vertical-align: top\">0</td>\n",
       "        <td style=\"padding-left: 1em; padding-right: 1em; text-align: center; vertical-align: top\">34</td>\n",
       "        <td style=\"padding-left: 1em; padding-right: 1em; text-align: center; vertical-align: top\">1</td>\n",
       "        <td style=\"padding-left: 1em; padding-right: 1em; text-align: center; vertical-align: top\"></td>\n",
       "    </tr>\n",
       "    <tr>\n",
       "        <td style=\"padding-left: 1em; padding-right: 1em; text-align: center; vertical-align: top\">2016-06-28</td>\n",
       "        <td style=\"padding-left: 1em; padding-right: 1em; text-align: center; vertical-align: top\">1170552</td>\n",
       "        <td style=\"padding-left: 1em; padding-right: 1em; text-align: center; vertical-align: top\">N</td>\n",
       "        <td style=\"padding-left: 1em; padding-right: 1em; text-align: center; vertical-align: top\">ES</td>\n",
       "        <td style=\"padding-left: 1em; padding-right: 1em; text-align: center; vertical-align: top\">H</td>\n",
       "        <td style=\"padding-left: 1em; padding-right: 1em; text-align: center; vertical-align: top\">51</td>\n",
       "        <td style=\"padding-left: 1em; padding-right: 1em; text-align: center; vertical-align: top\">2013-08-28</td>\n",
       "        <td style=\"padding-left: 1em; padding-right: 1em; text-align: center; vertical-align: top\">0</td>\n",
       "        <td style=\"padding-left: 1em; padding-right: 1em; text-align: center; vertical-align: top\">34</td>\n",
       "        <td style=\"padding-left: 1em; padding-right: 1em; text-align: center; vertical-align: top\">1</td>\n",
       "        <td style=\"padding-left: 1em; padding-right: 1em; text-align: center; vertical-align: top\"></td>\n",
       "    </tr>\n",
       "    <tr>\n",
       "        <td style=\"padding-left: 1em; padding-right: 1em; text-align: center; vertical-align: top\">2016-06-28</td>\n",
       "        <td style=\"padding-left: 1em; padding-right: 1em; text-align: center; vertical-align: top\">1170553</td>\n",
       "        <td style=\"padding-left: 1em; padding-right: 1em; text-align: center; vertical-align: top\">N</td>\n",
       "        <td style=\"padding-left: 1em; padding-right: 1em; text-align: center; vertical-align: top\">ES</td>\n",
       "        <td style=\"padding-left: 1em; padding-right: 1em; text-align: center; vertical-align: top\">H</td>\n",
       "        <td style=\"padding-left: 1em; padding-right: 1em; text-align: center; vertical-align: top\">22</td>\n",
       "        <td style=\"padding-left: 1em; padding-right: 1em; text-align: center; vertical-align: top\">2013-08-28</td>\n",
       "        <td style=\"padding-left: 1em; padding-right: 1em; text-align: center; vertical-align: top\">0</td>\n",
       "        <td style=\"padding-left: 1em; padding-right: 1em; text-align: center; vertical-align: top\">34</td>\n",
       "        <td style=\"padding-left: 1em; padding-right: 1em; text-align: center; vertical-align: top\">1</td>\n",
       "        <td style=\"padding-left: 1em; padding-right: 1em; text-align: center; vertical-align: top\"></td>\n",
       "    </tr>\n",
       "    <tr>\n",
       "        <td style=\"padding-left: 1em; padding-right: 1em; text-align: center; vertical-align: top\">2016-06-28</td>\n",
       "        <td style=\"padding-left: 1em; padding-right: 1em; text-align: center; vertical-align: top\">1170555</td>\n",
       "        <td style=\"padding-left: 1em; padding-right: 1em; text-align: center; vertical-align: top\">N</td>\n",
       "        <td style=\"padding-left: 1em; padding-right: 1em; text-align: center; vertical-align: top\">ES</td>\n",
       "        <td style=\"padding-left: 1em; padding-right: 1em; text-align: center; vertical-align: top\">V</td>\n",
       "        <td style=\"padding-left: 1em; padding-right: 1em; text-align: center; vertical-align: top\">22</td>\n",
       "        <td style=\"padding-left: 1em; padding-right: 1em; text-align: center; vertical-align: top\">2013-08-28</td>\n",
       "        <td style=\"padding-left: 1em; padding-right: 1em; text-align: center; vertical-align: top\">0</td>\n",
       "        <td style=\"padding-left: 1em; padding-right: 1em; text-align: center; vertical-align: top\">34</td>\n",
       "        <td style=\"padding-left: 1em; padding-right: 1em; text-align: center; vertical-align: top\">1</td>\n",
       "        <td style=\"padding-left: 1em; padding-right: 1em; text-align: center; vertical-align: top\"></td>\n",
       "    </tr>\n",
       "    <tr>\n",
       "        <td style=\"padding-left: 1em; padding-right: 1em; text-align: center; vertical-align: top\">2016-06-28</td>\n",
       "        <td style=\"padding-left: 1em; padding-right: 1em; text-align: center; vertical-align: top\">1170557</td>\n",
       "        <td style=\"padding-left: 1em; padding-right: 1em; text-align: center; vertical-align: top\">N</td>\n",
       "        <td style=\"padding-left: 1em; padding-right: 1em; text-align: center; vertical-align: top\">ES</td>\n",
       "        <td style=\"padding-left: 1em; padding-right: 1em; text-align: center; vertical-align: top\">H</td>\n",
       "        <td style=\"padding-left: 1em; padding-right: 1em; text-align: center; vertical-align: top\">22</td>\n",
       "        <td style=\"padding-left: 1em; padding-right: 1em; text-align: center; vertical-align: top\">2013-08-28</td>\n",
       "        <td style=\"padding-left: 1em; padding-right: 1em; text-align: center; vertical-align: top\">0</td>\n",
       "        <td style=\"padding-left: 1em; padding-right: 1em; text-align: center; vertical-align: top\">34</td>\n",
       "        <td style=\"padding-left: 1em; padding-right: 1em; text-align: center; vertical-align: top\">1</td>\n",
       "        <td style=\"padding-left: 1em; padding-right: 1em; text-align: center; vertical-align: top\"></td>\n",
       "    </tr>\n",
       "</table>\n",
       "<table frame=\"box\" rules=\"cols\">\n",
       "    <tr>\n",
       "        <th style=\"padding-left: 1em; padding-right: 1em; text-align: center\">CustomerType</th>\n",
       "        <th style=\"padding-left: 1em; padding-right: 1em; text-align: center\">CustomerRelationType</th>\n",
       "        <th style=\"padding-left: 1em; padding-right: 1em; text-align: center\">SameResidenceCountry</th>\n",
       "        <th style=\"padding-left: 1em; padding-right: 1em; text-align: center\">OtherBirthCountry</th>\n",
       "        <th style=\"padding-left: 1em; padding-right: 1em; text-align: center\">EmployeeSpouse</th>\n",
       "        <th style=\"padding-left: 1em; padding-right: 1em; text-align: center\">EntryChannel</th>\n",
       "        <th style=\"padding-left: 1em; padding-right: 1em; text-align: center\">Deceased</th>\n",
       "    </tr>\n",
       "    <tr>\n",
       "        <td style=\"padding-left: 1em; padding-right: 1em; text-align: center; vertical-align: top\">1.0</td>\n",
       "        <td style=\"padding-left: 1em; padding-right: 1em; text-align: center; vertical-align: top\">A</td>\n",
       "        <td style=\"padding-left: 1em; padding-right: 1em; text-align: center; vertical-align: top\">S</td>\n",
       "        <td style=\"padding-left: 1em; padding-right: 1em; text-align: center; vertical-align: top\">N</td>\n",
       "        <td style=\"padding-left: 1em; padding-right: 1em; text-align: center; vertical-align: top\">N</td>\n",
       "        <td style=\"padding-left: 1em; padding-right: 1em; text-align: center; vertical-align: top\">KAT</td>\n",
       "        <td style=\"padding-left: 1em; padding-right: 1em; text-align: center; vertical-align: top\">N</td>\n",
       "    </tr>\n",
       "    <tr>\n",
       "        <td style=\"padding-left: 1em; padding-right: 1em; text-align: center; vertical-align: top\">1.0</td>\n",
       "        <td style=\"padding-left: 1em; padding-right: 1em; text-align: center; vertical-align: top\">I</td>\n",
       "        <td style=\"padding-left: 1em; padding-right: 1em; text-align: center; vertical-align: top\">S</td>\n",
       "        <td style=\"padding-left: 1em; padding-right: 1em; text-align: center; vertical-align: top\">N</td>\n",
       "        <td style=\"padding-left: 1em; padding-right: 1em; text-align: center; vertical-align: top\"></td>\n",
       "        <td style=\"padding-left: 1em; padding-right: 1em; text-align: center; vertical-align: top\">KAT</td>\n",
       "        <td style=\"padding-left: 1em; padding-right: 1em; text-align: center; vertical-align: top\">N</td>\n",
       "    </tr>\n",
       "    <tr>\n",
       "        <td style=\"padding-left: 1em; padding-right: 1em; text-align: center; vertical-align: top\">1.0</td>\n",
       "        <td style=\"padding-left: 1em; padding-right: 1em; text-align: center; vertical-align: top\">A</td>\n",
       "        <td style=\"padding-left: 1em; padding-right: 1em; text-align: center; vertical-align: top\">S</td>\n",
       "        <td style=\"padding-left: 1em; padding-right: 1em; text-align: center; vertical-align: top\">N</td>\n",
       "        <td style=\"padding-left: 1em; padding-right: 1em; text-align: center; vertical-align: top\"></td>\n",
       "        <td style=\"padding-left: 1em; padding-right: 1em; text-align: center; vertical-align: top\">KHE</td>\n",
       "        <td style=\"padding-left: 1em; padding-right: 1em; text-align: center; vertical-align: top\">N</td>\n",
       "    </tr>\n",
       "    <tr>\n",
       "        <td style=\"padding-left: 1em; padding-right: 1em; text-align: center; vertical-align: top\">1.0</td>\n",
       "        <td style=\"padding-left: 1em; padding-right: 1em; text-align: center; vertical-align: top\">I</td>\n",
       "        <td style=\"padding-left: 1em; padding-right: 1em; text-align: center; vertical-align: top\">S</td>\n",
       "        <td style=\"padding-left: 1em; padding-right: 1em; text-align: center; vertical-align: top\">N</td>\n",
       "        <td style=\"padding-left: 1em; padding-right: 1em; text-align: center; vertical-align: top\"></td>\n",
       "        <td style=\"padding-left: 1em; padding-right: 1em; text-align: center; vertical-align: top\">KHE</td>\n",
       "        <td style=\"padding-left: 1em; padding-right: 1em; text-align: center; vertical-align: top\">N</td>\n",
       "    </tr>\n",
       "    <tr>\n",
       "        <td style=\"padding-left: 1em; padding-right: 1em; text-align: center; vertical-align: top\">1.0</td>\n",
       "        <td style=\"padding-left: 1em; padding-right: 1em; text-align: center; vertical-align: top\">I</td>\n",
       "        <td style=\"padding-left: 1em; padding-right: 1em; text-align: center; vertical-align: top\">S</td>\n",
       "        <td style=\"padding-left: 1em; padding-right: 1em; text-align: center; vertical-align: top\">N</td>\n",
       "        <td style=\"padding-left: 1em; padding-right: 1em; text-align: center; vertical-align: top\"></td>\n",
       "        <td style=\"padding-left: 1em; padding-right: 1em; text-align: center; vertical-align: top\">KHE</td>\n",
       "        <td style=\"padding-left: 1em; padding-right: 1em; text-align: center; vertical-align: top\">N</td>\n",
       "    </tr>\n",
       "    <tr>\n",
       "        <td style=\"padding-left: 1em; padding-right: 1em; text-align: center; vertical-align: top\">1.0</td>\n",
       "        <td style=\"padding-left: 1em; padding-right: 1em; text-align: center; vertical-align: top\">I</td>\n",
       "        <td style=\"padding-left: 1em; padding-right: 1em; text-align: center; vertical-align: top\">S</td>\n",
       "        <td style=\"padding-left: 1em; padding-right: 1em; text-align: center; vertical-align: top\">N</td>\n",
       "        <td style=\"padding-left: 1em; padding-right: 1em; text-align: center; vertical-align: top\"></td>\n",
       "        <td style=\"padding-left: 1em; padding-right: 1em; text-align: center; vertical-align: top\">KHE</td>\n",
       "        <td style=\"padding-left: 1em; padding-right: 1em; text-align: center; vertical-align: top\">N</td>\n",
       "    </tr>\n",
       "    <tr>\n",
       "        <td style=\"padding-left: 1em; padding-right: 1em; text-align: center; vertical-align: top\">1.0</td>\n",
       "        <td style=\"padding-left: 1em; padding-right: 1em; text-align: center; vertical-align: top\">A</td>\n",
       "        <td style=\"padding-left: 1em; padding-right: 1em; text-align: center; vertical-align: top\">S</td>\n",
       "        <td style=\"padding-left: 1em; padding-right: 1em; text-align: center; vertical-align: top\">N</td>\n",
       "        <td style=\"padding-left: 1em; padding-right: 1em; text-align: center; vertical-align: top\"></td>\n",
       "        <td style=\"padding-left: 1em; padding-right: 1em; text-align: center; vertical-align: top\">KFC</td>\n",
       "        <td style=\"padding-left: 1em; padding-right: 1em; text-align: center; vertical-align: top\">N</td>\n",
       "    </tr>\n",
       "    <tr>\n",
       "        <td style=\"padding-left: 1em; padding-right: 1em; text-align: center; vertical-align: top\">1.0</td>\n",
       "        <td style=\"padding-left: 1em; padding-right: 1em; text-align: center; vertical-align: top\">I</td>\n",
       "        <td style=\"padding-left: 1em; padding-right: 1em; text-align: center; vertical-align: top\">S</td>\n",
       "        <td style=\"padding-left: 1em; padding-right: 1em; text-align: center; vertical-align: top\">N</td>\n",
       "        <td style=\"padding-left: 1em; padding-right: 1em; text-align: center; vertical-align: top\"></td>\n",
       "        <td style=\"padding-left: 1em; padding-right: 1em; text-align: center; vertical-align: top\">KHE</td>\n",
       "        <td style=\"padding-left: 1em; padding-right: 1em; text-align: center; vertical-align: top\">N</td>\n",
       "    </tr>\n",
       "    <tr>\n",
       "        <td style=\"padding-left: 1em; padding-right: 1em; text-align: center; vertical-align: top\">1.0</td>\n",
       "        <td style=\"padding-left: 1em; padding-right: 1em; text-align: center; vertical-align: top\">I</td>\n",
       "        <td style=\"padding-left: 1em; padding-right: 1em; text-align: center; vertical-align: top\">S</td>\n",
       "        <td style=\"padding-left: 1em; padding-right: 1em; text-align: center; vertical-align: top\">N</td>\n",
       "        <td style=\"padding-left: 1em; padding-right: 1em; text-align: center; vertical-align: top\"></td>\n",
       "        <td style=\"padding-left: 1em; padding-right: 1em; text-align: center; vertical-align: top\">KHE</td>\n",
       "        <td style=\"padding-left: 1em; padding-right: 1em; text-align: center; vertical-align: top\">N</td>\n",
       "    </tr>\n",
       "    <tr>\n",
       "        <td style=\"padding-left: 1em; padding-right: 1em; text-align: center; vertical-align: top\">1.0</td>\n",
       "        <td style=\"padding-left: 1em; padding-right: 1em; text-align: center; vertical-align: top\">A</td>\n",
       "        <td style=\"padding-left: 1em; padding-right: 1em; text-align: center; vertical-align: top\">S</td>\n",
       "        <td style=\"padding-left: 1em; padding-right: 1em; text-align: center; vertical-align: top\">N</td>\n",
       "        <td style=\"padding-left: 1em; padding-right: 1em; text-align: center; vertical-align: top\"></td>\n",
       "        <td style=\"padding-left: 1em; padding-right: 1em; text-align: center; vertical-align: top\">KHE</td>\n",
       "        <td style=\"padding-left: 1em; padding-right: 1em; text-align: center; vertical-align: top\">N</td>\n",
       "    </tr>\n",
       "</table>\n",
       "<table frame=\"box\" rules=\"cols\">\n",
       "    <tr>\n",
       "        <th style=\"padding-left: 1em; padding-right: 1em; text-align: center\">AddresType</th>\n",
       "        <th style=\"padding-left: 1em; padding-right: 1em; text-align: center\">ProvinceCode</th>\n",
       "        <th style=\"padding-left: 1em; padding-right: 1em; text-align: center\">ProvinceName</th>\n",
       "        <th style=\"padding-left: 1em; padding-right: 1em; text-align: center\">Active</th>\n",
       "        <th style=\"padding-left: 1em; padding-right: 1em; text-align: center\">Income</th>\n",
       "        <th style=\"padding-left: 1em; padding-right: 1em; text-align: center\">Segment</th>\n",
       "    </tr>\n",
       "    <tr>\n",
       "        <td style=\"padding-left: 1em; padding-right: 1em; text-align: center; vertical-align: top\">1</td>\n",
       "        <td style=\"padding-left: 1em; padding-right: 1em; text-align: center; vertical-align: top\">28</td>\n",
       "        <td style=\"padding-left: 1em; padding-right: 1em; text-align: center; vertical-align: top\">MADRID</td>\n",
       "        <td style=\"padding-left: 1em; padding-right: 1em; text-align: center; vertical-align: top\">1</td>\n",
       "        <td style=\"padding-left: 1em; padding-right: 1em; text-align: center; vertical-align: top\">326124.9</td>\n",
       "        <td style=\"padding-left: 1em; padding-right: 1em; text-align: center; vertical-align: top\">01 - TOP</td>\n",
       "    </tr>\n",
       "    <tr>\n",
       "        <td style=\"padding-left: 1em; padding-right: 1em; text-align: center; vertical-align: top\">1</td>\n",
       "        <td style=\"padding-left: 1em; padding-right: 1em; text-align: center; vertical-align: top\">3</td>\n",
       "        <td style=\"padding-left: 1em; padding-right: 1em; text-align: center; vertical-align: top\">ALICANTE</td>\n",
       "        <td style=\"padding-left: 1em; padding-right: 1em; text-align: center; vertical-align: top\">0</td>\n",
       "        <td style=\"padding-left: 1em; padding-right: 1em; text-align: center; vertical-align: top\">None</td>\n",
       "        <td style=\"padding-left: 1em; padding-right: 1em; text-align: center; vertical-align: top\">02 - PARTICULARES</td>\n",
       "    </tr>\n",
       "    <tr>\n",
       "        <td style=\"padding-left: 1em; padding-right: 1em; text-align: center; vertical-align: top\">1</td>\n",
       "        <td style=\"padding-left: 1em; padding-right: 1em; text-align: center; vertical-align: top\">15</td>\n",
       "        <td style=\"padding-left: 1em; padding-right: 1em; text-align: center; vertical-align: top\">CORUÑA, A</td>\n",
       "        <td style=\"padding-left: 1em; padding-right: 1em; text-align: center; vertical-align: top\">1</td>\n",
       "        <td style=\"padding-left: 1em; padding-right: 1em; text-align: center; vertical-align: top\">None</td>\n",
       "        <td style=\"padding-left: 1em; padding-right: 1em; text-align: center; vertical-align: top\">03 - UNIVERSITARIO</td>\n",
       "    </tr>\n",
       "    <tr>\n",
       "        <td style=\"padding-left: 1em; padding-right: 1em; text-align: center; vertical-align: top\">1</td>\n",
       "        <td style=\"padding-left: 1em; padding-right: 1em; text-align: center; vertical-align: top\">8</td>\n",
       "        <td style=\"padding-left: 1em; padding-right: 1em; text-align: center; vertical-align: top\">BARCELONA</td>\n",
       "        <td style=\"padding-left: 1em; padding-right: 1em; text-align: center; vertical-align: top\">0</td>\n",
       "        <td style=\"padding-left: 1em; padding-right: 1em; text-align: center; vertical-align: top\">148402.98</td>\n",
       "        <td style=\"padding-left: 1em; padding-right: 1em; text-align: center; vertical-align: top\">03 - UNIVERSITARIO</td>\n",
       "    </tr>\n",
       "    <tr>\n",
       "        <td style=\"padding-left: 1em; padding-right: 1em; text-align: center; vertical-align: top\">1</td>\n",
       "        <td style=\"padding-left: 1em; padding-right: 1em; text-align: center; vertical-align: top\">7</td>\n",
       "        <td style=\"padding-left: 1em; padding-right: 1em; text-align: center; vertical-align: top\">BALEARS, ILLES</td>\n",
       "        <td style=\"padding-left: 1em; padding-right: 1em; text-align: center; vertical-align: top\">0</td>\n",
       "        <td style=\"padding-left: 1em; padding-right: 1em; text-align: center; vertical-align: top\">106885.8</td>\n",
       "        <td style=\"padding-left: 1em; padding-right: 1em; text-align: center; vertical-align: top\">03 - UNIVERSITARIO</td>\n",
       "    </tr>\n",
       "    <tr>\n",
       "        <td style=\"padding-left: 1em; padding-right: 1em; text-align: center; vertical-align: top\">1</td>\n",
       "        <td style=\"padding-left: 1em; padding-right: 1em; text-align: center; vertical-align: top\">8</td>\n",
       "        <td style=\"padding-left: 1em; padding-right: 1em; text-align: center; vertical-align: top\">BARCELONA</td>\n",
       "        <td style=\"padding-left: 1em; padding-right: 1em; text-align: center; vertical-align: top\">0</td>\n",
       "        <td style=\"padding-left: 1em; padding-right: 1em; text-align: center; vertical-align: top\">None</td>\n",
       "        <td style=\"padding-left: 1em; padding-right: 1em; text-align: center; vertical-align: top\">03 - UNIVERSITARIO</td>\n",
       "    </tr>\n",
       "    <tr>\n",
       "        <td style=\"padding-left: 1em; padding-right: 1em; text-align: center; vertical-align: top\">1</td>\n",
       "        <td style=\"padding-left: 1em; padding-right: 1em; text-align: center; vertical-align: top\">35</td>\n",
       "        <td style=\"padding-left: 1em; padding-right: 1em; text-align: center; vertical-align: top\">PALMAS, LAS</td>\n",
       "        <td style=\"padding-left: 1em; padding-right: 1em; text-align: center; vertical-align: top\">1</td>\n",
       "        <td style=\"padding-left: 1em; padding-right: 1em; text-align: center; vertical-align: top\">96395.88</td>\n",
       "        <td style=\"padding-left: 1em; padding-right: 1em; text-align: center; vertical-align: top\">02 - PARTICULARES</td>\n",
       "    </tr>\n",
       "    <tr>\n",
       "        <td style=\"padding-left: 1em; padding-right: 1em; text-align: center; vertical-align: top\">1</td>\n",
       "        <td style=\"padding-left: 1em; padding-right: 1em; text-align: center; vertical-align: top\">45</td>\n",
       "        <td style=\"padding-left: 1em; padding-right: 1em; text-align: center; vertical-align: top\">TOLEDO</td>\n",
       "        <td style=\"padding-left: 1em; padding-right: 1em; text-align: center; vertical-align: top\">0</td>\n",
       "        <td style=\"padding-left: 1em; padding-right: 1em; text-align: center; vertical-align: top\">None</td>\n",
       "        <td style=\"padding-left: 1em; padding-right: 1em; text-align: center; vertical-align: top\">03 - UNIVERSITARIO</td>\n",
       "    </tr>\n",
       "    <tr>\n",
       "        <td style=\"padding-left: 1em; padding-right: 1em; text-align: center; vertical-align: top\">1</td>\n",
       "        <td style=\"padding-left: 1em; padding-right: 1em; text-align: center; vertical-align: top\">28</td>\n",
       "        <td style=\"padding-left: 1em; padding-right: 1em; text-align: center; vertical-align: top\">MADRID</td>\n",
       "        <td style=\"padding-left: 1em; padding-right: 1em; text-align: center; vertical-align: top\">0</td>\n",
       "        <td style=\"padding-left: 1em; padding-right: 1em; text-align: center; vertical-align: top\">None</td>\n",
       "        <td style=\"padding-left: 1em; padding-right: 1em; text-align: center; vertical-align: top\">03 - UNIVERSITARIO</td>\n",
       "    </tr>\n",
       "    <tr>\n",
       "        <td style=\"padding-left: 1em; padding-right: 1em; text-align: center; vertical-align: top\">1</td>\n",
       "        <td style=\"padding-left: 1em; padding-right: 1em; text-align: center; vertical-align: top\">15</td>\n",
       "        <td style=\"padding-left: 1em; padding-right: 1em; text-align: center; vertical-align: top\">CORUÑA, A</td>\n",
       "        <td style=\"padding-left: 1em; padding-right: 1em; text-align: center; vertical-align: top\">1</td>\n",
       "        <td style=\"padding-left: 1em; padding-right: 1em; text-align: center; vertical-align: top\">68322.72</td>\n",
       "        <td style=\"padding-left: 1em; padding-right: 1em; text-align: center; vertical-align: top\">03 - UNIVERSITARIO</td>\n",
       "    </tr>\n",
       "</table>\n",
       "[929615 rows x 24 columns]<br/>Note: Only the head of the SFrame is printed.<br/>You can use print_rows(num_rows=m, num_columns=n) to print more rows and columns.\n",
       "</div>"
      ],
      "text/plain": [
       "Columns:\n",
       "\tDate\tstr\n",
       "\tPersonId\tint\n",
       "\tEmployee\tstr\n",
       "\tCountry\tstr\n",
       "\tSex\tstr\n",
       "\tAge\tint\n",
       "\tEntryDate\tstr\n",
       "\tNew\tint\n",
       "\tSeniority\tint\n",
       "\tPrimaryCustomer\tint\n",
       "\tLastDateAsPrimaryCustomer\tstr\n",
       "\tCustomerType\tfloat\n",
       "\tCustomerRelationType\tstr\n",
       "\tSameResidenceCountry\tstr\n",
       "\tOtherBirthCountry\tstr\n",
       "\tEmployeeSpouse\tstr\n",
       "\tEntryChannel\tstr\n",
       "\tDeceased\tstr\n",
       "\tAddresType\tint\n",
       "\tProvinceCode\tint\n",
       "\tProvinceName\tstr\n",
       "\tActive\tint\n",
       "\tIncome\tfloat\n",
       "\tSegment\tstr\n",
       "\n",
       "Rows: 929615\n",
       "\n",
       "Data:\n",
       "+------------+----------+----------+---------+-----+-----+------------+-----+\n",
       "|    Date    | PersonId | Employee | Country | Sex | Age | EntryDate  | New |\n",
       "+------------+----------+----------+---------+-----+-----+------------+-----+\n",
       "| 2016-06-28 |  15889   |    F     |    ES   |  V  |  56 | 1995-01-16 |  0  |\n",
       "| 2016-06-28 | 1170544  |    N     |    ES   |  H  |  36 | 2013-08-28 |  0  |\n",
       "| 2016-06-28 | 1170545  |    N     |    ES   |  V  |  22 | 2013-08-28 |  0  |\n",
       "| 2016-06-28 | 1170547  |    N     |    ES   |  H  |  22 | 2013-08-28 |  0  |\n",
       "| 2016-06-28 | 1170548  |    N     |    ES   |  H  |  22 | 2013-08-28 |  0  |\n",
       "| 2016-06-28 | 1170550  |    N     |    ES   |  V  |  22 | 2013-08-28 |  0  |\n",
       "| 2016-06-28 | 1170552  |    N     |    ES   |  H  |  51 | 2013-08-28 |  0  |\n",
       "| 2016-06-28 | 1170553  |    N     |    ES   |  H  |  22 | 2013-08-28 |  0  |\n",
       "| 2016-06-28 | 1170555  |    N     |    ES   |  V  |  22 | 2013-08-28 |  0  |\n",
       "| 2016-06-28 | 1170557  |    N     |    ES   |  H  |  22 | 2013-08-28 |  0  |\n",
       "+------------+----------+----------+---------+-----+-----+------------+-----+\n",
       "+-----------+-----------------+---------------------------+--------------+----------------------+\n",
       "| Seniority | PrimaryCustomer | LastDateAsPrimaryCustomer | CustomerType | CustomerRelationType |\n",
       "+-----------+-----------------+---------------------------+--------------+----------------------+\n",
       "|    256    |        1        |                           |     1.0      |          A           |\n",
       "|     34    |        1        |                           |     1.0      |          I           |\n",
       "|     34    |        1        |                           |     1.0      |          A           |\n",
       "|     34    |        1        |                           |     1.0      |          I           |\n",
       "|     34    |        1        |                           |     1.0      |          I           |\n",
       "|     34    |        1        |                           |     1.0      |          I           |\n",
       "|     34    |        1        |                           |     1.0      |          A           |\n",
       "|     34    |        1        |                           |     1.0      |          I           |\n",
       "|     34    |        1        |                           |     1.0      |          I           |\n",
       "|     34    |        1        |                           |     1.0      |          A           |\n",
       "+-----------+-----------------+---------------------------+--------------+----------------------+\n",
       "+----------------------+-------------------+----------------+--------------+----------+\n",
       "| SameResidenceCountry | OtherBirthCountry | EmployeeSpouse | EntryChannel | Deceased |\n",
       "+----------------------+-------------------+----------------+--------------+----------+\n",
       "|          S           |         N         |       N        |     KAT      |    N     |\n",
       "|          S           |         N         |                |     KAT      |    N     |\n",
       "|          S           |         N         |                |     KHE      |    N     |\n",
       "|          S           |         N         |                |     KHE      |    N     |\n",
       "|          S           |         N         |                |     KHE      |    N     |\n",
       "|          S           |         N         |                |     KHE      |    N     |\n",
       "|          S           |         N         |                |     KFC      |    N     |\n",
       "|          S           |         N         |                |     KHE      |    N     |\n",
       "|          S           |         N         |                |     KHE      |    N     |\n",
       "|          S           |         N         |                |     KHE      |    N     |\n",
       "+----------------------+-------------------+----------------+--------------+----------+\n",
       "+------------+--------------+-----+\n",
       "| AddresType | ProvinceCode | ... |\n",
       "+------------+--------------+-----+\n",
       "|     1      |      28      | ... |\n",
       "|     1      |      3       | ... |\n",
       "|     1      |      15      | ... |\n",
       "|     1      |      8       | ... |\n",
       "|     1      |      7       | ... |\n",
       "|     1      |      8       | ... |\n",
       "|     1      |      35      | ... |\n",
       "|     1      |      45      | ... |\n",
       "|     1      |      28      | ... |\n",
       "|     1      |      15      | ... |\n",
       "+------------+--------------+-----+\n",
       "[929615 rows x 24 columns]\n",
       "Note: Only the head of the SFrame is printed.\n",
       "You can use print_rows(num_rows=m, num_columns=n) to print more rows and columns."
      ]
     },
     "execution_count": 7,
     "metadata": {},
     "output_type": "execute_result"
    }
   ],
   "source": [
    "renameDict = {\n",
    "  'fecha_dato': 'Date',\n",
    "  'ncodpers': 'PersonId',\n",
    "  'ind_empleado': 'Employee',\n",
    "  'pais_residencia': 'Country',\n",
    "  'sexo': 'Sex',\n",
    "  'age': 'Age',\n",
    "  'fecha_alta': 'EntryDate',\n",
    "  'ind_nuevo': 'New',\n",
    "  'antiguedad': 'Seniority',\n",
    "  'indrel': 'PrimaryCustomer',\n",
    "  'ult_fec_cli_1t': 'LastDateAsPrimaryCustomer',\n",
    "  'indrel_1mes': 'CustomerType',\n",
    "  'tiprel_1mes': 'CustomerRelationType',\n",
    "  'indresi': 'SameResidenceCountry',\n",
    "  'indext': 'OtherBirthCountry',\n",
    "  'conyuemp': 'EmployeeSpouse',\n",
    "  'canal_entrada': 'EntryChannel',\n",
    "  'indfall': 'Deceased',\n",
    "  'tipodom': 'AddresType',\n",
    "  'cod_prov': 'ProvinceCode',\n",
    "  'nomprov': 'ProvinceName',\n",
    "  'ind_actividad_cliente': 'Active',\n",
    "  'renta': 'Income',\n",
    "  'segmento': 'Segment'\n",
    "}\n",
    "\n",
    "train = train_orig\n",
    "train.rename(renameDict)\n",
    "\n",
    "test = test_orig\n",
    "test.rename(renameDict)"
   ]
  },
  {
   "cell_type": "code",
   "execution_count": 8,
   "metadata": {
    "collapsed": true
   },
   "outputs": [],
   "source": [
    "# There are 27734 rows that are totally broken:\n",
    "# - all staticCols are missing or are an emtpy string.\n",
    "# - only 'Date', 'PersonId' and the Product Columns contain proper entries.\n",
    "def remove_broken_rows(data=SFrame()):\n",
    "  good, bad = data.dropna_split('Active')\n",
    "  return good"
   ]
  },
  {
   "cell_type": "code",
   "execution_count": 9,
   "metadata": {
    "collapsed": true
   },
   "outputs": [],
   "source": [
    "train = remove_broken_rows(train)\n",
    "train = train.sort(['PersonId','Date'])"
   ]
  },
  {
   "cell_type": "code",
   "execution_count": 10,
   "metadata": {
    "collapsed": true
   },
   "outputs": [],
   "source": [
    "test.save('%s/KAGGLE/santander_product_recommendation/test' % DATADIR)\n",
    "train.save('%s/KAGGLE/santander_product_recommendation/train' % DATADIR)"
   ]
  },
  {
   "cell_type": "markdown",
   "metadata": {},
   "source": [
    "## After executing previous steps once, start directly here:"
   ]
  },
  {
   "cell_type": "code",
   "execution_count": 13,
   "metadata": {
    "collapsed": true
   },
   "outputs": [],
   "source": [
    "staticCols = [\n",
    " 'Employee',\n",
    " 'Country',\n",
    " 'Sex',\n",
    " 'Age',\n",
    " 'EntryDate',\n",
    " 'New',\n",
    " 'Seniority',\n",
    " 'PrimaryCustomer',\n",
    " 'LastDateAsPrimaryCustomer',\n",
    " 'CustomerType',\n",
    " 'CustomerRelationType',\n",
    " 'SameResidenceCountry',\n",
    " 'OtherBirthCountry',\n",
    " 'EmployeeSpouse',\n",
    " 'EntryChannel',\n",
    " 'Deceased',\n",
    " 'AddresType',\n",
    " 'ProvinceCode',\n",
    " 'ProvinceName',\n",
    " 'Active',\n",
    " 'Income',\n",
    " 'Segment'\n",
    "]\n",
    "\n",
    "idCols = [\n",
    "  'Date',\n",
    "  'PersonId'\n",
    "]\n",
    "\n",
    "productCols = [\n",
    "  'ind_cco_fin_ult1',\n",
    "  'ind_cder_fin_ult1',\n",
    "  'ind_cno_fin_ult1',\n",
    "  'ind_ctju_fin_ult1',\n",
    "  'ind_ctma_fin_ult1',\n",
    "  'ind_ctop_fin_ult1',\n",
    "  'ind_ctpp_fin_ult1',\n",
    "  'ind_dela_fin_ult1',\n",
    "  'ind_ecue_fin_ult1',\n",
    "  'ind_fond_fin_ult1',\n",
    "  'ind_hip_fin_ult1',\n",
    "  'ind_nom_pens_ult1',\n",
    "  'ind_nomina_ult1',\n",
    "  'ind_plan_fin_ult1',\n",
    "  'ind_pres_fin_ult1',\n",
    "  'ind_reca_fin_ult1',\n",
    "  'ind_recibo_ult1',\n",
    "  'ind_tjcr_fin_ult1',\n",
    "  'ind_valo_fin_ult1'\n",
    "]\n",
    "\n",
    "# https://www.kaggle.com/c/santander-product-recommendation/forums/t/25727/question-about-map-7?forumMessageId=146330#post146330\n",
    "irrelevantProductCols = [\n",
    "  'ind_ahor_fin_ult1',\n",
    "  'ind_aval_fin_ult1',\n",
    "  'ind_viv_fin_ult1',\n",
    "  'ind_deco_fin_ult1',\n",
    "  'ind_deme_fin_ult1'\n",
    "]\n",
    "\n",
    "allProductCols = productCols + irrelevantProductCols"
   ]
  },
  {
   "cell_type": "code",
   "execution_count": 15,
   "metadata": {
    "collapsed": true
   },
   "outputs": [],
   "source": [
    "fNames = productCols\n",
    "featureNames = list(set(fNames) - set(['ind_ahor_fin_ult1', 'ind_aval_fin_ult1', 'ind_viv_fin_ult1', \n",
    "                                                  'ind_deco_fin_ult1', 'ind_deme_fin_ult1']))\n",
    "staticFeatureNames = staticCols + ['CalendarMonth']\n",
    "\n",
    "def apk(actual, predicted, k=10):\n",
    "    \"\"\"\n",
    "    Computes the average precision at k.\n",
    "    This function computes the average prescision at k between two lists of\n",
    "    items.\n",
    "    Parameters\n",
    "    ----------\n",
    "    actual : list\n",
    "             A list of elements that are to be predicted (order doesn't matter)\n",
    "    predicted : list\n",
    "                A list of predicted elements (order does matter)\n",
    "    k : int, optional\n",
    "        The maximum number of predicted elements\n",
    "    Returns\n",
    "    -------\n",
    "    score : double\n",
    "            The average precision at k over the input lists\n",
    "    \"\"\"\n",
    "    if len(predicted)>k:\n",
    "        predicted = predicted[:k]\n",
    "\n",
    "    score = 0.0\n",
    "    num_hits = 0.0\n",
    "\n",
    "    for i,p in enumerate(predicted):\n",
    "        if p in actual and p not in predicted[:i]:\n",
    "            num_hits += 1.0\n",
    "            score += num_hits / (i+1.0)\n",
    "\n",
    "    if not actual:\n",
    "        return 0.0\n",
    "\n",
    "    return score / min(len(actual), k)\n",
    "\n",
    "\n",
    "def integerMonth (dateString):\n",
    "    year = datetime.datetime.strptime(dateString, '%Y-%m-%d').year\n",
    "    month = datetime.datetime.strptime(dateString, '%Y-%m-%d').month\n",
    "    return (year-2015)*12+month\n",
    "\n",
    "\n",
    "def delta(last, current):\n",
    "    return (current > last and current == 1)\n",
    "\n",
    "\n",
    "def concat_deltas(x):\n",
    "    l = []\n",
    "    for f in featureNames:\n",
    "        if(x['Delta.'+f]):\n",
    "            l.append(f)\n",
    "    return l\n",
    "  \n",
    "\n",
    "def sort_dict_by_value(d):\n",
    "    l = sorted(d.items(), key=operator.itemgetter(1), reverse=True)\n",
    "    return list(i[0] for i in l)\n",
    "\n",
    "\n",
    "def create7prediction(data, model):\n",
    "    data = data.add_row_number()\n",
    "    top7prediction = model.predict_topk(data, k=7).groupby('id', \n",
    "                                                {'Best7': agg.CONCAT('class', 'probability')})\n",
    "    top7prediction['Sorted7'] = top7prediction['Best7'].apply(lambda x: sort_dict_by_value(x))\n",
    "    data = data.join(top7prediction, 'id')\n",
    "    return data\n",
    "\n",
    "\n",
    "def build_groupby():\n",
    "    d = {}\n",
    "    for c in featureNames:\n",
    "        d[c] = agg.CONCAT('DateInt', c)\n",
    "    for c in staticFeatureNames:\n",
    "        d[c] = agg.ARGMAX('DateInt', c)\n",
    "    return d\n",
    "\n",
    "\n",
    "def make_deltas(train, lookback_months):\n",
    "    old_month = lookback_months\n",
    "    new_month = lookback_months+1\n",
    "    for column in featureNames:\n",
    "        train['Delta.'+column] = train.apply(lambda x: delta(x[column+'.'+str(old_month)], x[column+'.'+str(new_month)]))\n",
    "    train.save(\"%s/KAGGLE/santander_product_recommendation/tt\" % DATADIR)\n",
    "    train = SFrame(\"%s/KAGGLE/santander_product_recommendation/tt\" % DATADIR)\n",
    "    train['TotalDelta'] = train.apply(lambda x: concat_deltas(x))\n",
    "    train['TotalDeltaString'] = train['TotalDelta'].apply(lambda x: ' '.join(x))\n",
    "    train.save(\"%s/KAGGLE/santander_product_recommendation/tt\" % DATADIR)\n",
    "    train = SFrame(\"%s/KAGGLE/santander_product_recommendation/tt\" % DATADIR)\n",
    "    print 'before:', len(train)\n",
    "    train = train.filter_by('', 'TotalDeltaString', exclude=True)\n",
    "    print 'after:', len(train)\n",
    "    train.save(\"%s/KAGGLE/santander_product_recommendation/tt\" % DATADIR)\n",
    "    train = SFrame(\"%s/KAGGLE/santander_product_recommendation/tt\" % DATADIR)\n",
    "    return train\n",
    "\n",
    "\n",
    "def train_model(train, lookback_months):\n",
    "    train = train.stack('TotalDelta', new_column_name='NewProduct')\n",
    "    featureColumns = []\n",
    "    targetColumns = []\n",
    "    for f in featureNames:\n",
    "        for i in range(lookback_months+1):\n",
    "            featureColumns.append(f+'.'+str(i))\n",
    "        targetColumns.append(f+'.'+str(lookback_months+1))\n",
    "\n",
    "    staticColumns = list(set(staticFeatureNames)-set(['EmployeeSpouse', 'LastDateAsPrimaryCustomer',\n",
    "                                                      'AddresType', 'CustomerType', 'CalendarMonth']))\n",
    "\n",
    "    return gl.boosted_trees_classifier.create(train, verbose=True, max_iterations=20,\n",
    "                        features=featureColumns+staticColumns, target='NewProduct')\n",
    "\n",
    "\n",
    "def make_train_data(train, old_months, lookback_months):\n",
    "    result = None\n",
    "    for old_month in old_months:\n",
    "        print old_month\n",
    "        r = make_train_data_one_month(train, old_month, lookback_months)\n",
    "        if result is None:\n",
    "            result = r\n",
    "        else:\n",
    "            result = result.append(r)\n",
    "    result.save(\"%s/KAGGLE/santander_product_recommendation/tt\" % DATADIR)\n",
    "    result = SFrame(\"%s/KAGGLE/santander_product_recommendation/tt\" % DATADIR)\n",
    "    return result\n",
    "  \n",
    "    \n",
    "def make_train_data_one_month(t, target_old_month, lookback_months):\n",
    "    t['DateInt'] = t['Date'].apply(lambda x: integerMonth(x))\n",
    "    t['CalendarMonth'] = t['DateInt'].apply(lambda x: 'M'+str(x%12))\n",
    "    t = t.filter_by(range(target_old_month-lookback_months, target_old_month+2), 'DateInt')\n",
    "    t['DateInt'] = t['DateInt']-target_old_month+lookback_months\n",
    "    d = build_groupby()\n",
    "    t = t.groupby('PersonId', d)\n",
    "    for c in featureNames:\n",
    "        t = t.unpack(c)\n",
    "    return t\n",
    "\n",
    "  \n",
    "def train_and_test(t, test, target_old_month, lookback_months):\n",
    "    t = make_train_data(t, [target_old_month], lookback_months)\n",
    "    return test.join(t, on=['PersonId'], how='inner')\n",
    "  \n",
    "    \n",
    "def prepare_submission(model, lookback_months):\n",
    "    t = SFrame(\"%s/KAGGLE/santander_product_recommendation/train\" % DATADIR)\n",
    "    test = SFrame(\"%s/KAGGLE/santander_product_recommendation/test\" % DATADIR)\n",
    "    ttest = train_and_test(t, test, 17, lookback_months)\n",
    "    prediction = create7prediction(ttest, model)\n",
    "    prediction['Sorted7String'] = prediction['Sorted7'].apply(lambda x: ' '.join(x))\n",
    "    prediction = test.join(prediction, on='PersonId', how='left')\n",
    "    return prediction\n",
    "  \n",
    "\n",
    "def test_model(model, target_old_month, lookback_months):\n",
    "    t = SFrame(\"%s/KAGGLE/santander_product_recommendation/train\" % DATADIR)\n",
    "    t = make_train_data(t, [target_old_month], lookback_months)\n",
    "    t = make_deltas(t, lookback_months)\n",
    "    prediction = create7prediction(t, model)\n",
    "    prediction['AveragePrecisionAt7'] = prediction.apply(lambda x: apk(x['TotalDelta'], x['Sorted7'], k=7))\n",
    "    return prediction"
   ]
  },
  {
   "cell_type": "code",
   "execution_count": 16,
   "metadata": {
    "collapsed": true
   },
   "outputs": [],
   "source": [
    "train = SFrame(\"%s/KAGGLE/santander_product_recommendation/train\" % DATADIR)\n",
    "lookback_months=4"
   ]
  },
  {
   "cell_type": "code",
   "execution_count": 17,
   "metadata": {
    "collapsed": false
   },
   "outputs": [
    {
     "name": "stdout",
     "output_type": "stream",
     "text": [
      "4\n"
     ]
    }
   ],
   "source": [
    "train = make_train_data(train, old_months=[4], lookback_months=lookback_months)"
   ]
  },
  {
   "cell_type": "code",
   "execution_count": 18,
   "metadata": {
    "collapsed": false
   },
   "outputs": [
    {
     "name": "stdout",
     "output_type": "stream",
     "text": [
      "before: 633488\n",
      "after: 24441\n"
     ]
    }
   ],
   "source": [
    "train = make_deltas(train, lookback_months)"
   ]
  },
  {
   "cell_type": "code",
   "execution_count": 19,
   "metadata": {
    "collapsed": false
   },
   "outputs": [
    {
     "name": "stdout",
     "output_type": "stream",
     "text": [
      "PROGRESS: Creating a validation set from 5 percent of training data. This may take a while.\n",
      "          You can set ``validation_set=None`` to disable validation tracking.\n",
      "\n"
     ]
    },
    {
     "data": {
      "text/html": [
       "<pre>Boosted trees classifier:</pre>"
      ],
      "text/plain": [
       "Boosted trees classifier:"
      ]
     },
     "metadata": {},
     "output_type": "display_data"
    },
    {
     "data": {
      "text/html": [
       "<pre>--------------------------------------------------------</pre>"
      ],
      "text/plain": [
       "--------------------------------------------------------"
      ]
     },
     "metadata": {},
     "output_type": "display_data"
    },
    {
     "data": {
      "text/html": [
       "<pre>Number of examples          : 28386</pre>"
      ],
      "text/plain": [
       "Number of examples          : 28386"
      ]
     },
     "metadata": {},
     "output_type": "display_data"
    },
    {
     "data": {
      "text/html": [
       "<pre>Number of classes           : 19</pre>"
      ],
      "text/plain": [
       "Number of classes           : 19"
      ]
     },
     "metadata": {},
     "output_type": "display_data"
    },
    {
     "data": {
      "text/html": [
       "<pre>Number of feature columns   : 94</pre>"
      ],
      "text/plain": [
       "Number of feature columns   : 94"
      ]
     },
     "metadata": {},
     "output_type": "display_data"
    },
    {
     "data": {
      "text/html": [
       "<pre>Number of unpacked features : 94</pre>"
      ],
      "text/plain": [
       "Number of unpacked features : 94"
      ]
     },
     "metadata": {},
     "output_type": "display_data"
    },
    {
     "data": {
      "text/html": [
       "<pre>+-----------+--------------+-------------------+-------------------+---------------------+---------------------+</pre>"
      ],
      "text/plain": [
       "+-----------+--------------+-------------------+-------------------+---------------------+---------------------+"
      ]
     },
     "metadata": {},
     "output_type": "display_data"
    },
    {
     "data": {
      "text/html": [
       "<pre>| Iteration | Elapsed Time | Training-accuracy | Training-log_loss | Validation-accuracy | Validation-log_loss |</pre>"
      ],
      "text/plain": [
       "| Iteration | Elapsed Time | Training-accuracy | Training-log_loss | Validation-accuracy | Validation-log_loss |"
      ]
     },
     "metadata": {},
     "output_type": "display_data"
    },
    {
     "data": {
      "text/html": [
       "<pre>+-----------+--------------+-------------------+-------------------+---------------------+---------------------+</pre>"
      ],
      "text/plain": [
       "+-----------+--------------+-------------------+-------------------+---------------------+---------------------+"
      ]
     },
     "metadata": {},
     "output_type": "display_data"
    },
    {
     "data": {
      "text/html": [
       "<pre>| 1         | 0.950802     | 0.654548          | 1.761836          | 0.623521            | 1.816260            |</pre>"
      ],
      "text/plain": [
       "| 1         | 0.950802     | 0.654548          | 1.761836          | 0.623521            | 1.816260            |"
      ]
     },
     "metadata": {},
     "output_type": "display_data"
    },
    {
     "data": {
      "text/html": [
       "<pre>| 2         | 1.866313     | 0.659163          | 1.534910          | 0.622129            | 1.601924            |</pre>"
      ],
      "text/plain": [
       "| 2         | 1.866313     | 0.659163          | 1.534910          | 0.622129            | 1.601924            |"
      ]
     },
     "metadata": {},
     "output_type": "display_data"
    },
    {
     "data": {
      "text/html": [
       "<pre>| 3         | 2.789100     | 0.662474          | 1.387324          | 0.624913            | 1.461058            |</pre>"
      ],
      "text/plain": [
       "| 3         | 2.789100     | 0.662474          | 1.387324          | 0.624913            | 1.461058            |"
      ]
     },
     "metadata": {},
     "output_type": "display_data"
    },
    {
     "data": {
      "text/html": [
       "<pre>| 4         | 3.664364     | 0.664623          | 1.280420          | 0.624217            | 1.363179            |</pre>"
      ],
      "text/plain": [
       "| 4         | 3.664364     | 0.664623          | 1.280420          | 0.624217            | 1.363179            |"
      ]
     },
     "metadata": {},
     "output_type": "display_data"
    },
    {
     "data": {
      "text/html": [
       "<pre>| 5         | 4.584801     | 0.666843          | 1.201612          | 0.614475            | 1.293986            |</pre>"
      ],
      "text/plain": [
       "| 5         | 4.584801     | 0.666843          | 1.201612          | 0.614475            | 1.293986            |"
      ]
     },
     "metadata": {},
     "output_type": "display_data"
    },
    {
     "data": {
      "text/html": [
       "<pre>| 6         | 5.480181     | 0.668604          | 1.140511          | 0.615170            | 1.238168            |</pre>"
      ],
      "text/plain": [
       "| 6         | 5.480181     | 0.668604          | 1.140511          | 0.615170            | 1.238168            |"
      ]
     },
     "metadata": {},
     "output_type": "display_data"
    },
    {
     "data": {
      "text/html": [
       "<pre>| 10        | 9.275582     | 0.674769          | 0.993303          | 0.610995            | 1.110915            |</pre>"
      ],
      "text/plain": [
       "| 10        | 9.275582     | 0.674769          | 0.993303          | 0.610995            | 1.110915            |"
      ]
     },
     "metadata": {},
     "output_type": "display_data"
    },
    {
     "data": {
      "text/html": [
       "<pre>| 11        | 10.171630    | 0.676037          | 0.971176          | 0.611691            | 1.093670            |</pre>"
      ],
      "text/plain": [
       "| 11        | 10.171630    | 0.676037          | 0.971176          | 0.611691            | 1.093670            |"
      ]
     },
     "metadata": {},
     "output_type": "display_data"
    },
    {
     "data": {
      "text/html": [
       "<pre>| 15        | 13.753787    | 0.679596          | 0.907970          | 0.607516            | 1.044142            |</pre>"
      ],
      "text/plain": [
       "| 15        | 13.753787    | 0.679596          | 0.907970          | 0.607516            | 1.044142            |"
      ]
     },
     "metadata": {},
     "output_type": "display_data"
    },
    {
     "data": {
      "text/html": [
       "<pre>| 20        | 18.535468    | 0.684034          | 0.860582          | 0.603340            | 1.018265            |</pre>"
      ],
      "text/plain": [
       "| 20        | 18.535468    | 0.684034          | 0.860582          | 0.603340            | 1.018265            |"
      ]
     },
     "metadata": {},
     "output_type": "display_data"
    },
    {
     "data": {
      "text/html": [
       "<pre>+-----------+--------------+-------------------+-------------------+---------------------+---------------------+</pre>"
      ],
      "text/plain": [
       "+-----------+--------------+-------------------+-------------------+---------------------+---------------------+"
      ]
     },
     "metadata": {},
     "output_type": "display_data"
    }
   ],
   "source": [
    "model = train_model(train, lookback_months)"
   ]
  },
  {
   "cell_type": "code",
   "execution_count": 22,
   "metadata": {
    "collapsed": false
   },
   "outputs": [
    {
     "name": "stdout",
     "output_type": "stream",
     "text": [
      "17\n"
     ]
    }
   ],
   "source": [
    "submission = prepare_submission(model, lookback_months)"
   ]
  },
  {
   "cell_type": "code",
   "execution_count": 23,
   "metadata": {
    "collapsed": true
   },
   "outputs": [],
   "source": [
    "submission.rename({'PersonId': 'ncodpers', 'Sorted7String': 'added_products'})\n",
    "submission['ncodpers', 'added_products'].save(\"%s/KAGGLE/santander_product_recommendation/submission.csv\" % DATADIR)"
   ]
  },
  {
   "cell_type": "code",
   "execution_count": null,
   "metadata": {
    "collapsed": true
   },
   "outputs": [],
   "source": []
  }
 ],
 "metadata": {
  "kernelspec": {
   "display_name": "Python 2",
   "language": "python",
   "name": "python2"
  },
  "language_info": {
   "codemirror_mode": {
    "name": "ipython",
    "version": 2
   },
   "file_extension": ".py",
   "mimetype": "text/x-python",
   "name": "python",
   "nbconvert_exporter": "python",
   "pygments_lexer": "ipython2",
   "version": "2.7.12"
  }
 },
 "nbformat": 4,
 "nbformat_minor": 0
}
